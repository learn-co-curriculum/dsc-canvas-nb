{
 "cells": [
  {
   "cell_type": "code",
   "execution_count": 1,
   "metadata": {},
   "outputs": [],
   "source": [
    "import requests\n",
    "import os\n",
    "from dotenv import load_dotenv\n",
    "load_dotenv()\n",
    "\n",
    "import markdown2\n",
    "import re \n",
    "\n",
    "from canvasapi import Canvas\n",
    "\n",
    "from git_canvas import *"
   ]
  },
  {
   "cell_type": "markdown",
   "metadata": {},
   "source": [
    "## 1. Get the lesson from GitHub\n",
    "Change the cell below to your repo link."
   ]
  },
  {
   "cell_type": "code",
   "execution_count": 2,
   "metadata": {},
   "outputs": [],
   "source": [
    "repo_link = \"https://github.com/learn-co-curriculum/dsc-ml-interp-explaining-blackboxes\""
   ]
  },
  {
   "cell_type": "markdown",
   "metadata": {},
   "source": [
    "Run the cell below."
   ]
  },
  {
   "cell_type": "code",
   "execution_count": 3,
   "metadata": {},
   "outputs": [
    {
     "name": "stdout",
     "output_type": "stream",
     "text": [
      "repo: learn-co-curriculum\n",
      "user: dsc-ml-interp-explaining-blackboxes\n"
     ]
    }
   ],
   "source": [
    "github_username, github_repo = extract_github_details(repo_link)\n",
    "html_content = get_github_readme(github_username, github_repo)"
   ]
  },
  {
   "cell_type": "code",
   "execution_count": 4,
   "metadata": {},
   "outputs": [
    {
     "data": {
      "text/plain": [
       "'<h1>Explaining Black-Boxes: Neural Networks</h1>\\n\\n<h2>Introduction</h2>\\n\\n<p>Neural networks are often considered to be complex and difficult to interpret due to their highly non-linear nature. However, with the right tools and techniques, it is possible to make neural networks more interpretable. One approach is to use techniques such as visualization of the network\\'s weights, activations, and gradients, which can help to understand the relationships between inputs and outputs. Additionally, there are also interpretable neural network architectures, such as decision trees or rule-based systems, that are designed to be more easily interpretable than traditional neural networks.</p>\\n\\n<p>In this lesson, we will discuss some of the techniques available to interpret or explain neural networks. Then, we will build a neural network together with scikit-learn and explain the results using the techniques that we learned. You can use this code as a template in the future to create neural networks and output useful reports to explain your results.</p>\\n\\n<h2>Objectives</h2>\\n\\n<p>You will be able to:</p>\\n\\n<ul>\\n<li>Describe methods for interpreting/explaining neural networks</li>\\n<li>Build and interpret a neural network with scikit-learn</li>\\n</ul>\\n\\n<h2>Wisconsin Breast Cancer Dataset</h2>\\n\\n<p>Since neural networks have many applications in the medical field, a good dataset to explore is the Wisconsin Breast Cancer Dataset. This is a dataset with 569 instances, 30 features, and 2 classes. In this exercise, we will use scikit-learn to practice building a neural network that is used to classify whether a breast cancer tumor is benign or malignant. </p>\\n\\n<p>Researchers and physicians rely on neural networks to help them diagnose malignant tumors due to the high degree of accuracy they offer. However, medical professionals need to have a detailed understanding of how the model arrived at its conclusions. After we build our neural network, we will review all of the explanatory metrics we can use to support our model\\'s results.</p>\\n\\n<h2>Implement a Neural Network with scikit-learn</h2>\\n\\n<p>Follow the steps below to build a simple neural network with scikit-learn! Remember, that even as we build out our model, we will be looking for valuable information that we can use to better explain our results.</p>\\n\\n<h3>1. Import Data</h3>\\n\\n<p>In the cell below, we use an <code>from &lt;library&gt;.&lt;module&gt; import &lt;object&gt;</code> syntax to import the necessary function to load our data. Then, we assign it to the <code>data</code> variable. </p>\\n\\n<p>```python\\nfrom sklearn.datasets import load<em>breast</em>cancer</p>\\n\\n<h1>load the dataset</h1>\\n\\n<p>data = load<em>breast</em>cancer()\\n```</p>\\n\\n<h3>2. Basic EDA</h3>\\n\\n<p>```python</p>\\n\\n<h1>print the dataset description</h1>\\n\\n<p>print(data.DESCR)\\n```</p>\\n\\n<pre><code>.. _breast_cancer_dataset:\\n\\nBreast cancer wisconsin (diagnostic) dataset\\n--------------------------------------------\\n\\n**Data Set Characteristics:**\\n\\n    :Number of Instances: 569\\n\\n    :Number of Attributes: 30 numeric, predictive attributes and the class\\n\\n    :Attribute Information:\\n        - radius (mean of distances from center to points on the perimeter)\\n        - texture (standard deviation of gray-scale values)\\n        - perimeter\\n        - area\\n        - smoothness (local variation in radius lengths)\\n        - compactness (perimeter^2 / area - 1.0)\\n        - concavity (severity of concave portions of the contour)\\n        - concave points (number of concave portions of the contour)\\n        - symmetry\\n        - fractal dimension (\"coastline approximation\" - 1)\\n\\n        The mean, standard error, and \"worst\" or largest (mean of the three\\n        worst/largest values) of these features were computed for each image,\\n        resulting in 30 features.  For instance, field 0 is Mean Radius, field\\n        10 is Radius SE, field 20 is Worst Radius.\\n\\n        - class:\\n                - WDBC-Malignant\\n                - WDBC-Benign\\n\\n    :Summary Statistics:\\n\\n    ===================================== ====== ======\\n                                           Min    Max\\n    ===================================== ====== ======\\n    radius (mean):                        6.981  28.11\\n    texture (mean):                       9.71   39.28\\n    perimeter (mean):                     43.79  188.5\\n    area (mean):                          143.5  2501.0\\n    smoothness (mean):                    0.053  0.163\\n    compactness (mean):                   0.019  0.345\\n    concavity (mean):                     0.0    0.427\\n    concave points (mean):                0.0    0.201\\n    symmetry (mean):                      0.106  0.304\\n    fractal dimension (mean):             0.05   0.097\\n    radius (standard error):              0.112  2.873\\n    texture (standard error):             0.36   4.885\\n    perimeter (standard error):           0.757  21.98\\n    area (standard error):                6.802  542.2\\n    smoothness (standard error):          0.002  0.031\\n    compactness (standard error):         0.002  0.135\\n    concavity (standard error):           0.0    0.396\\n    concave points (standard error):      0.0    0.053\\n    symmetry (standard error):            0.008  0.079\\n    fractal dimension (standard error):   0.001  0.03\\n    radius (worst):                       7.93   36.04\\n    texture (worst):                      12.02  49.54\\n    perimeter (worst):                    50.41  251.2\\n    area (worst):                         185.2  4254.0\\n    smoothness (worst):                   0.071  0.223\\n    compactness (worst):                  0.027  1.058\\n    concavity (worst):                    0.0    1.252\\n    concave points (worst):               0.0    0.291\\n    symmetry (worst):                     0.156  0.664\\n    fractal dimension (worst):            0.055  0.208\\n    ===================================== ====== ======\\n\\n    :Missing Attribute Values: None\\n\\n    :Class Distribution: 212 - Malignant, 357 - Benign\\n\\n    :Creator:  Dr. William H. Wolberg, W. Nick Street, Olvi L. Mangasarian\\n\\n    :Donor: Nick Street\\n\\n    :Date: November, 1995\\n\\nThis is a copy of UCI ML Breast Cancer Wisconsin (Diagnostic) datasets.\\nhttps://goo.gl/U2Uwz2\\n\\nFeatures are computed from a digitized image of a fine needle\\naspirate (FNA) of a breast mass.  They describe\\ncharacteristics of the cell nuclei present in the image.\\n\\nSeparating plane described above was obtained using\\nMultisurface Method-Tree (MSM-T) [K. P. Bennett, \"Decision Tree\\nConstruction Via Linear Programming.\" Proceedings of the 4th\\nMidwest Artificial Intelligence and Cognitive Science Society,\\npp. 97-101, 1992], a classification method which uses linear\\nprogramming to construct a decision tree.  Relevant features\\nwere selected using an exhaustive search in the space of 1-4\\nfeatures and 1-3 separating planes.\\n\\nThe actual linear program used to obtain the separating plane\\nin the 3-dimensional space is that described in:\\n[K. P. Bennett and O. L. Mangasarian: \"Robust Linear\\nProgramming Discrimination of Two Linearly Inseparable Sets\",\\nOptimization Methods and Software 1, 1992, 23-34].\\n\\nThis database is also available through the UW CS ftp server:\\n\\nftp ftp.cs.wisc.edu\\ncd math-prog/cpo-dataset/machine-learn/WDBC/\\n\\n.. topic:: References\\n\\n   - W.N. Street, W.H. Wolberg and O.L. Mangasarian. Nuclear feature extraction \\n     for breast tumor diagnosis. IS&amp;T/SPIE 1993 International Symposium on \\n     Electronic Imaging: Science and Technology, volume 1905, pages 861-870,\\n     San Jose, CA, 1993.\\n   - O.L. Mangasarian, W.N. Street and W.H. Wolberg. Breast cancer diagnosis and \\n     prognosis via linear programming. Operations Research, 43(4), pages 570-577, \\n     July-August 1995.\\n   - W.H. Wolberg, W.N. Street, and O.L. Mangasarian. Machine learning techniques\\n     to diagnose breast cancer from fine-needle aspirates. Cancer Letters 77 (1994) \\n     163-171.\\n</code></pre>\\n\\n<p>In the data description, you will notice that there is a <strong>Dataset Characteristics</strong> section that provides valuable metadata that will help you to assess the data quality and interpret the features. </p>\\n\\n<h4>Examining Data Quality</h4>\\n\\n<p>Since this is an example dataset that is used for teaching, it is probably not used to train neural networks in contemporary medical settings, so there are certain things we will excuse in this exercise.</p>\\n\\n<ul>\\n<li><p><strong>Size</strong> - Due to limitations on compute resources outside of professional research settings, this dataset is intentionally much smaller than what would be used in real medical research.</p></li>\\n<li><p><strong>Age</strong> - This dataset is from 1995, which would generally be a bit too old for contemporary research on this topic.</p></li>\\n</ul>\\n\\n<p>On the other hand, <strong>there are things about this dataset that are <em>unusually</em> good, such as a lack of missing values</strong>. In a research setting, careful data preparation decisions would need to be made, and those decisions would need to be part of your explanation. </p>\\n\\n<h4>Examining Features</h4>\\n\\n<p>Feature selection is an important part of model interpretation. By including certain features in a model, researchers are have already indicated that these features are important. While selection methods might vary, the presence or absence of features already provides many clues to interpretation. </p>\\n\\n<p>Our <strong>target</strong> feature has two classes, malignant or benign. </p>\\n\\n<p>You may have noticed that ten attributes of the cell nuclei present in the image are described. Each of these attributes are represented as three calculated features, described below:</p>\\n\\n<blockquote>\\n  <p>\"The mean, standard error, and \"worst\" or largest (mean of the three\\n  worst/largest values) of these features were computed for each image,\\n  resulting in 30 features.  For instance, field 0 is Mean Radius, field\\n  10 is Radius SE, field 20 is Worst Radius.\"</p>\\n</blockquote>\\n\\n<p>This means that, for example, the <strong>radius</strong> attribute translates into the features <strong>Radius (Mean)</strong>, <strong>Radius (SE Mean)</strong>, and <strong>Radius (Worst)</strong>. <strong>Worst</strong> describes the mean radius of the three largest cell nuclei. </p>\\n\\n<h5>So what can we infer?</h5>\\n\\n<p>Based on the description of the features, and what we know about the computed features, we can draw a couple of inferences about the components of the decision mechanism our model might employ, specifically:\\n1. The attributes selected by researchers to be included in the data have been determined to be relevant in diagnosing malignancy mammograms.\\n2. Since \"worst\" is used to describe the largest cell nuclei in the observed sample, there is some relationship between malignancy and cell nuclei size.</p>\\n\\n<p>For ease of use, we provide a list of the feature names below.</p>\\n\\n<p><code>python\\nfeature_names = [\"id\", \"radius_mean\", \"texture_mean\", \"perimeter_mean\", \\n                 \"area_mean\", \"smoothness_mean\", \"compactness_mean\", \"concavity_mean\", \\n                 \"concave points_mean\", \"symmetry_mean\", \"fractal_dimension_mean\", \\n                 \"radius_se\", \"texture_se\", \"perimeter_se\", \"area_se\", \"smoothness_se\", \\n                 \"compactness_se\", \"concavity_se\", \"concave points_se\", \"symmetry_se\", \\n                 \"fractal_dimension_se\", \"radius_worst\", \"texture_worst\", \"perimeter_worst\", \\n                 \"area_worst\", \"smoothness_worst\", \"compactness_worst\", \"concavity_worst\", \\n                 \"concave points_worst\", \"symmetry_worst\", \"fractal_dimension_worst\"]\\n</code></p>\\n\\n<h4>Detecting Class Imbalance</h4>\\n\\n<p>Next, we will assign the data and the targets to X, y variables. Then, we will examine the distribution of our target class. </p>\\n\\n<p>```python</p>\\n\\n<h1>assign the feature matrix and target vector</h1>\\n\\n<p>X = data.data\\ny = data.target\\n```</p>\\n\\n<p>```python\\nimport pandas as pd</p>\\n\\n<p>y<em>data = pd.Series(y)\\nprint(y</em>data.value_counts())\\n```</p>\\n\\n<pre><code>1    357\\n0    212\\ndtype: int64\\n</code></pre>\\n\\n<p>It appears from the output above that our target class is over-represented in this data. This will be something to consider as we interpret our results.</p>\\n\\n<h3>3. Build a Neural Network</h3>\\n\\n<p>Next, we will use the <code>scikit-learn</code> neural network library and import the <code>MLPClassifier</code>.</p>\\n\\n<p>The MLP Classifier in scikit-learn is implemented as a multi-layer feedforward neural network with a backpropagation algorithm for training the network. Before we continue, let\\'s briefly define what that means:</p>\\n\\n<ul>\\n<li>In a feedforward neural network, each neuron in the network receives input from the neurons in the previous layer, performs a computation, and passes the result to the neurons in the next layer.</li>\\n<li>The main goal of training a feedforward neural network is to adjust the weights of the connections between the neurons so that the network can accurately map the input to the desired output. </li>\\n<li>This is typically done using a supervised learning algorithm, such as backpropagation, which iteratively updates the weights of the network to minimize the error between the network\\'s predicted output and the true output.</li>\\n</ul>\\n\\n<p>The MLPClassifier function has several parameters that can be used to control the behavior of the algorithm, such as the number of hidden layers, the number of neurons in each layer, the activation function, and the learning rate.</p>\\n\\n<h4>Tuning Parameters</h4>\\n\\n<p>Below, we discuss a few parameters that we will tune to create our model.</p>\\n\\n<p>For a more detailed explanation of all the possible parameters and how you can tune them, take a look at the [scikit-learn documentation] (https://scikit-learn.org/stable/modules/generated/sklearn.neural_network.MLPClassifier.html).</p>\\n\\n<p><code>__hidden_layer_sizes__</code>: This parameter controls the number of neurons in each hidden layer and the number of hidden layers in the network. It is represented as a tuple, where each element of the tuple represents the number of neurons in a hidden layer. For example, (100, 100) would create a network with two hidden layers, each with 100 neurons. We are going to use a small number of nodes for demonstration purposes.</p>\\n\\n<p><code>max_iter</code>: This parameter controls the maximum number of iterations that the solver will run before stopping.</p>\\n\\n<p><code>solver</code>: This parameter controls the algorithm used to train the network.</p>\\n\\n<p>```python\\nfrom sklearn.neural_network import MLPClassifier</p>\\n\\n<h1>create an instance of the classifier</h1>\\n\\n<p>clf = MLPClassifier(hidden<em>layer</em>sizes=(10, 10, 10), max<em>iter=1000, \\n                    solver=\\'sgd\\', random</em>state=1, learning<em>rate</em>init=.1)\\n```</p>\\n\\n<h4>Train, Test, Split</h4>\\n\\n<p>Next, let\\'s use the <code>model_selection</code> module to creating training and test sets for our model.</p>\\n\\n<p>```python\\nfrom sklearn.model<em>selection import train</em>test_split</p>\\n\\n<h1>split your data</h1>\\n\\n<p>X<em>train, X</em>test, y<em>train, y</em>test = train<em>test</em>split(X, y, test<em>size=0.2, random</em>state=42)</p>\\n\\n<h1>train the classifier on the train dataset</h1>\\n\\n<p>clf.fit(X<em>train, y</em>train)</p>\\n\\n<h1>predict labels for test dataset</h1>\\n\\n<p>y<em>pred = clf.predict(X</em>test)\\n```</p>\\n\\n<p>Great! Now, let\\'s review and explain the results.</p>\\n\\n<h2>Interpreting/Explaining Neural Networks</h2>\\n\\n<p>There are several ways to interpret and explain the results of a neural network. These methods can provide insight into how the neural network is making predictions and how different features are impacting those predictions, which can be useful for understanding the model\\'s behavior and potentially improving it. In the section below, we will demonstrate how to to apply these techniques with Python and scikit-learn.</p>\\n\\n<p>When interpreting machine learning models, there are methods for <strong>local</strong> and <strong>global</strong> interpretation. Global explanations attempt to explain the behavior of the entire model and generalize about how the model decides. Local explanations explain the results of a single observations. First, we will explain some global interpretation methods. Then, we will explain some local interpretation methods. </p>\\n\\n<h3>Global Explanations</h3>\\n\\n<h4>Model Evaluation Metrics</h4>\\n\\n<p>You can use various evaluation metrics such as accuracy, precision, recall, and F1-score to evaluate the performance of the model on the test dataset. </p>\\n\\n<p>```python\\nfrom sklearn.metrics import accuracy<em>score, precision</em>score, recall<em>score, f1</em>score</p>\\n\\n<h1>Compute accuracy</h1>\\n\\n<p>acc = accuracy<em>score(y</em>test, y_pred)\\nprint(\"Accuracy: {:.2f}%\".format(acc * 100))</p>\\n\\n<h1>Compute precision</h1>\\n\\n<p>prec = precision<em>score(y</em>test, y_pred)\\nprint(\"Precision: {:.2f}%\".format(prec * 100))</p>\\n\\n<h1>Compute recall</h1>\\n\\n<p>rec = recall<em>score(y</em>test, y_pred)\\nprint(\"Recall: {:.2f}%\".format(rec * 100))</p>\\n\\n<h1>Compute F1 score</h1>\\n\\n<p>f1 = f1<em>score(y</em>test, y_pred)\\nprint(\"F1 Score: {:.2f}%\".format(f1 * 100))\\n```</p>\\n\\n<pre><code>Accuracy: 62.28%\\nPrecision: 62.28%\\nRecall: 100.00%\\nF1 Score: 76.76%\\n</code></pre>\\n\\n<p>While the accuracy of our model is low, we have already learned a lot about how the model is classifying the observations. A recall of 100% means that <strong>every negative prediction is correct</strong>. </p>\\n\\n<h4>Confusion Matrix</h4>\\n\\n<p>You can use a confusion matrix to visualize the performance of the model in terms of true positives, true negatives, false positives, and false negatives.</p>\\n\\n<div>\\n<table><tr><td>\\n<img src=\"https://curriculum-content.s3.amazonaws.com/data-science/v3/p4/w2-ml-interp/ml-interp-4-1.png\" \\n    alt=\"A LIME explainer generated by the Python LIME module. Depicts a chart that displays the probability that a specific row in the data belonged to either class, based on predicted probabilities.\" height=350/>\\n</td></tr></table>\\n</div>\\n\\n<p><strong>If you are running this notebook locally, and want to generate the visualization for yourself, uncomment and run the code cell below.</strong></p>\\n\\n<p>```python</p>\\n\\n<h1>import seaborn as sns</h1>\\n\\n<h1>from sklearn.metrics import confusion_matrix</h1>\\n\\n<h1>import matplotlib.pyplot as plt</h1>\\n\\n<h1># Compute the confusion matrix</h1>\\n\\n<h1>cm = confusion<em>matrix(y</em>test, y_pred)</h1>\\n\\n<h1># Visualize the confusion matrix</h1>\\n\\n<h1>sns.heatmap(cm, annot=True, cmap=\"YlGnBu\", fmt=\\'g\\')</h1>\\n\\n<h1>plt.xlabel(\\'Predicted labels\\')</h1>\\n\\n<h1>plt.ylabel(\\'True labels\\')</h1>\\n\\n<h1>plt.title(\\'Confusion Matrix\\')</h1>\\n\\n<h1>plt.show()</h1>\\n\\n<p>```</p>\\n\\n<h5>So what can we infer?</h5>\\n\\n<p>The model is \"cautious\" in determining that an observation is <strong>benign</strong>. The model is more likely to misclassify a negative result as positive. </p>\\n\\n<h3>Local Explanations</h3>\\n\\n<h4>LIME</h4>\\n\\n<p>You can use <strong>LIME (Local Interpretable Model-Agnostic Explanations)</strong> to generate explanations for the predictions of the model by approximating the model locally around one instance (row) and explaining the predictions based on that local approximation. Let\\'s run the code and examine the outputs so we can talk about what that means.</p>\\n\\n<p>Since LIME is model agnostic, you can use it with any machine learning model. However, you will want to choose an evaluation metric based on the type of metrics available to that particular model. We chose <code>predict_proba</code> as our evaluation metric because it is a useful way to evaluate features when using neural networks. It can give you more information about a model\\'s predictions than the simple <code>predict</code> method. This is because it helps us to understand the level of certainty of a model\\'s predictions for each feature by predicting the probability that the row in question will belong to either class.</p>\\n\\n<p>```python</p>\\n\\n<h1>!pip install lime</h1>\\n\\n<p>```</p>\\n\\n<p>```python\\nfrom lime import lime_tabular</p>\\n\\n<p>explainer = lime<em>tabular.LimeTabularExplainer(X</em>train, feature<em>names=feature</em>names)</p>\\n\\n<h1>Choose a sample to explain</h1>\\n\\n<p>sample = X_test[0]</p>\\n\\n<h1>Get the explanation for the sample</h1>\\n\\n<p>exp = explainer.explain<em>instance(sample, clf.predict</em>proba, num_features=5)</p>\\n\\n<h1># Print the explanation</h1>\\n\\n<h1>exp<em>data = exp.as</em>list()</h1>\\n\\n<h1>exp<em>df = pd.DataFrame(exp</em>data)</h1>\\n\\n<p>```</p>\\n\\n<p>Let\\'s discuss this code block and what it is doing.</p>\\n\\n<ol>\\n<li><p>In the code above, we use the <code>lime_tabular.LimeTabularExplainer()</code> class to create a LIME explainer for the training data. You can pass the number of feature you want to see the explanation for using <code>num_features</code> parameter.</p></li>\\n<li><p>Next, we choose a sample from the test set (<code>X_test[0]</code>) and use the explain_instance() method to obtain an explanation for the prediction of the sample. </p></li>\\n<li><p>Finally, we use the as_list() method to print the explanation as a list of feature-value pairs.</p></li>\\n</ol>\\n\\n<p><strong>You can also visualize the explanation:</strong></p>\\n\\n<div>\\n<table><tr><td>\\n<img src=\"https://curriculum-content.s3.amazonaws.com/data-science/v3/p4/w2-ml-interp/ml-interp-4-2.png\" \\n    alt=\"A LIME explainer generated by the Python LIME module. Depicts a chart that displays the probability that a specific row in the data belonged to either class, based on predicted probabilities.\" height=350/>\\n</td></tr></table>\\n</div>\\n\\n<p><strong>If you are running this notebook locally, and want to generate the visualization for yourself, uncomment and run the code cell below.</strong></p>\\n\\n<p>```python</p>\\n\\n<h1>exp.show<em>in</em>notebook(show<em>table=True, show</em>all=False)</h1>\\n\\n<p>```</p>\\n\\n<p>So what does this graph suggest? Let\\'s examine the pieces from left to right. </p>\\n\\n<ol>\\n<li><p>In the top left, the prediction probabilities for the observation (which is the first row in the data frame or 0) are displayed. In this case, the probability that this observation is indeed malignant is 0.62, while the probability that it is benign is only 0.38.</p></li>\\n<li><p>In the center, the bar divides features into two columns: <code>0</code>, or features that would typically be associated with benign, and <code>1</code>, or features that would typically be associated with malignant. Here, we see that the only feature in <code>1</code> is <code>fractal_dimension mean_</code> which is greater than 0.32 but less than 0.47. In this row, the true value was 0.40.</p></li>\\n<li><p>On the right, there is another table with columns named <code>Feature</code> and <code>Value</code>. The <code>fractal_dimension_mean</code> feature is highlighted in orange, with the true value displayed next to it. </p></li>\\n</ol>\\n\\n<h5>So what can we infer?</h5>\\n\\n<p>The model is <em>mildly</em> confident that this observation is malignant, because of the <code>fractal_dimension_feature</code>. However, because the observation has values for other features that are typically associated with benign, the confidence of the model is somewhat diminished.</p>\\n\\n<p>Let\\'s look at another visualization that further explains these results:</p>\\n\\n<div>\\n<table><tr><td>\\n<img src=\"https://curriculum-content.s3.amazonaws.com/data-science/v3/p4/w2-ml-interp/ml-interp-4-3.png\" \\n    alt=\"A LIME explainer generated by the Python LIME module. Depicts a chart that displays the probability that a specific row in the data belonged to either class, based on predicted probabilities.\" height=350/>\\n</td></tr></table>\\n</div>\\n\\n<p><strong>If you are running this notebook locally, and want to generate the visualization for yourself, uncomment and run the code cell below.</strong></p>\\n\\n<p>```python</p>\\n\\n<h1>import matplotlib as pyplot</h1>\\n\\n<h1>fig = exp.as<em>pyplot</em>figure(label=1)</h1>\\n\\n<p>```</p>\\n\\n<h5>So what can we infer?</h5>\\n\\n<p>In the chart above, we see that <code>fractal_dimension_mean</code> was the main contributor to the classification of malignant. and that <code>perimeter_worst</code> was the main contributor to uncertainty about the classification. </p>\\n\\n<p>Below, we express the same values as a table. </p>\\n\\n<p><code>python\\nprint(pd.DataFrame(exp.as_list(),columns=[\\'Feature\\',\\'Contribution\\']))\\n</code></p>\\n\\n<pre><code>                              Feature  Contribution\\n0  516.45 &lt; perimeter_worst &lt;= 686.60     -0.007623\\n1      84.25 &lt; texture_worst &lt;= 97.67     -0.005705\\n2       75.10 &lt; texture_mean &lt;= 85.98     -0.004588\\n3   420.30 &lt; perimeter_mean &lt;= 551.70     -0.004174\\n4          0.00 &lt; symmetry_se &lt;= 0.00      0.002985\\n</code></pre>\\n\\n<h2>Combining Explanations</h2>\\n\\n<p>Let\\'s look at the inferences that we made so far:</p>\\n\\n<ol>\\n<li>The attributes selected by researchers to be included in the data have been determined to be relevant in diagnosing malignancy mammograms.</li>\\n<li>Since \"worst\" is used to describe the largest cell nuclei in the observed sample, there is some relationship between malignancy and cell nuclei size.</li>\\n<li>There are more observations that are malignant.</li>\\n<li>The model is \"cautious\" in determining that an observation is <strong>benign</strong>. The model is more likely to mis-classify a negative result as positive. </li>\\n<li>In our sample, the model is <em>mildly</em> confident that this observation is malignant, because of the <code>fractal_dimension_mean</code>. However, because the observation has values for other features that are typically associated with benign, the confidence of the model is somewhat diminished.</li>\\n</ol>\\n\\n<p>Based on the inferences, we might explain that:</p>\\n\\n<ol>\\n<li><p>Since the researchers have indicated that \"worst\" pertains to \"largest\", we understand that having larger values in key fields contributes to a malignancy classification.</p></li>\\n<li><p>The recall is 100%, which means that false positives are more likely than false negatives. However, that could be due to a class imbalance. </p></li>\\n<li><p>However, we have observed that in a particular sample, that the <code>fractal_dimension_mean</code> was a strong contributor to a malignancy classification.</p></li>\\n</ol>\\n\\n<p>Now that we have created a baseline model and examined the results to craft an explanation, our work is not yet done. Since we have a class imbalance and a recall of 100%, our next iteration might include applying preprocessing techniques to correct for the class imbalance. We might also choose to tune the hyper-parameters of neural network or LIME explainer to improve the model\\'s performance and/or explanations.  </p>\\n\\n<h2>Summary</h2>\\n\\n<p>In this lesson, we built a neural network to classify observations as \"malignant\" or \"benign\" with the Wisconsin Breast Cancer Dataset. We reviewed the metadata and learned which attributes the features represented, and how they were calculated. We also discussed what qualities of the data we should consider when selecting a model and tuning the parameters. </p>\\n\\n<p>While we only had time to cover the absolute basics implementing neural networks with Python and scikit-learn, the tools we explained should help you get started. If you are interested in learning more about neural networks, additional curriculum will be provided at the end of the course to help you expand your understanding. </p>\\n'"
      ]
     },
     "execution_count": 4,
     "metadata": {},
     "output_type": "execute_result"
    }
   ],
   "source": [
    "html_content"
   ]
  },
  {
   "cell_type": "markdown",
   "metadata": {},
   "source": [
    "Uncomment to see the contents retrieved."
   ]
  },
  {
   "cell_type": "code",
   "execution_count": 5,
   "metadata": {},
   "outputs": [
    {
     "name": "stdout",
     "output_type": "stream",
     "text": [
      "Explaining Black-Boxes: Neural Networks\n"
     ]
    }
   ],
   "source": [
    "# print(html_content)\n",
    "pattern = re.compile(\"(?s)<h1>.+?</h1>\")\n",
    "result = re.findall(\"(?s)<h1>.+?</h1>\", html_content)[0]\n",
    "result = result.replace(\"<h1>\", \"\").replace(\"</h1>\", \"\")\n",
    "print(result)"
   ]
  },
  {
   "cell_type": "markdown",
   "metadata": {},
   "source": [
    "## 2. Connect to Canvas API\n",
    "\n",
    "\n",
    "Add Canvas credentials. \n",
    "\n",
    "* The API key should be stored in your `.env` file.\n",
    "* Change to the relevant Canvas instance as needed. "
   ]
  },
  {
   "cell_type": "code",
   "execution_count": 6,
   "metadata": {},
   "outputs": [],
   "source": [
    "canvas_api_key = os.environ.get('CANVAS_TOKEN')\n",
    "canvas_instance = \"https://learning.flatironschool.com\""
   ]
  },
  {
   "cell_type": "markdown",
   "metadata": {},
   "source": [
    "Connect to Canvas API by creating a Canvas instance."
   ]
  },
  {
   "cell_type": "code",
   "execution_count": 7,
   "metadata": {},
   "outputs": [],
   "source": [
    "canvas = Canvas(canvas_instance, canvas_api_key)"
   ]
  },
  {
   "cell_type": "markdown",
   "metadata": {},
   "source": [
    "## 3. Courses\n",
    "For all of the methods available for the Course class, see [the Course documentation](https://canvasapi.readthedocs.io/en/stable/course-ref.html#course)."
   ]
  },
  {
   "cell_type": "markdown",
   "metadata": {},
   "source": [
    "**To work with an existing course, input a course number.**"
   ]
  },
  {
   "cell_type": "code",
   "execution_count": 8,
   "metadata": {},
   "outputs": [],
   "source": [
    "course_number = 6682"
   ]
  },
  {
   "cell_type": "code",
   "execution_count": 9,
   "metadata": {},
   "outputs": [
    {
     "name": "stdout",
     "output_type": "stream",
     "text": [
      "[Build] DS Phase 4\n"
     ]
    }
   ],
   "source": [
    "course = canvas.get_course(course_number)\n",
    "print(course.name)"
   ]
  },
  {
   "cell_type": "markdown",
   "metadata": {},
   "source": [
    "### Add Content\n",
    "For all the different kinds of content that can be added, see [this].(https://canvasapi.readthedocs.io/en/stable/examples.html#assignments)\n",
    "\n",
    "Use the syntax below and sub out `.create_page()` for whichever other method you want to use."
   ]
  },
  {
   "cell_type": "markdown",
   "metadata": {},
   "source": [
    "#### Add a Page"
   ]
  },
  {
   "cell_type": "markdown",
   "metadata": {},
   "source": [
    "First, get the title."
   ]
  },
  {
   "cell_type": "code",
   "execution_count": 10,
   "metadata": {},
   "outputs": [],
   "source": [
    "pattern = re.compile(\"(?s)<h1>.+?</h1>\")\n",
    "result = re.findall(\"(?s)<h1>.+?</h1>\", html_content)[0]\n",
    "title = result.replace(\"<h1>\", \"\").replace(\"</h1>\", \"\")"
   ]
  },
  {
   "cell_type": "markdown",
   "metadata": {},
   "source": [
    "Then, set the attributes. See all the possible attributes here. "
   ]
  },
  {
   "cell_type": "code",
   "execution_count": 11,
   "metadata": {},
   "outputs": [
    {
     "name": "stdout",
     "output_type": "stream",
     "text": [
      "Successfully created the page\n"
     ]
    }
   ],
   "source": [
    "attributes = {\n",
    "    \"title\": title,\n",
    "    \"body\": html_content,\n",
    "    \"published\": True\n",
    "}\n",
    "\n",
    "page = course.create_page(attributes)\n",
    "\n",
    "if page:\n",
    "    print(\"Successfully created the page\")\n",
    "else:\n",
    "    print(\"Failed to create the page\")"
   ]
  },
  {
   "cell_type": "markdown",
   "metadata": {},
   "source": [
    "#### Add a Lab"
   ]
  },
  {
   "cell_type": "markdown",
   "metadata": {},
   "source": [
    "#### Get Header"
   ]
  },
  {
   "cell_type": "code",
   "execution_count": null,
   "metadata": {},
   "outputs": [],
   "source": [
    "header = re.compile(\"(?s)<h1>.+?</h1>\")\n",
    "result1 = re.findall(header, html_content)[0]\n",
    "title = result1.replace(\"<h1>\", \"\").replace(\"</h1>\", \"\")"
   ]
  },
  {
   "cell_type": "markdown",
   "metadata": {},
   "source": [
    "#### Get Introduction"
   ]
  },
  {
   "cell_type": "code",
   "execution_count": null,
   "metadata": {},
   "outputs": [],
   "source": [
    "objectives = re.compile(\"(?s)<h2>Introduction.+?<h2>\")\n",
    "result2 = re.findall(objectives, html_content)[0]"
   ]
  },
  {
   "cell_type": "markdown",
   "metadata": {},
   "source": [
    "#### Get Learning Objectives"
   ]
  },
  {
   "cell_type": "code",
   "execution_count": null,
   "metadata": {},
   "outputs": [],
   "source": [
    "objectives = re.compile(\"(?s)<h2>Learning Objectives.+?<h2>\")\n",
    "result3 = re.findall(objectives, html_content)[0]\n",
    "result3 = result3[:-5]\n",
    "print(result3)"
   ]
  },
  {
   "cell_type": "code",
   "execution_count": null,
   "metadata": {},
   "outputs": [],
   "source": [
    "lab = (result1+\"\\n\"+result2+\"\\n\"+result3)\n",
    "print(lab)"
   ]
  },
  {
   "cell_type": "code",
   "execution_count": null,
   "metadata": {},
   "outputs": [],
   "source": [
    "attributes = {\n",
    "    \"title\": title,\n",
    "    \"body\": lab,\n",
    "    \"published\": True\n",
    "}\n",
    "\n",
    "page = course.create_page(attributes)\n",
    "\n",
    "if page:\n",
    "    print(\"Successfully created the page\")\n",
    "else:\n",
    "    print(\"Failed to create the page\")"
   ]
  }
 ],
 "metadata": {
  "kernelspec": {
   "display_name": "Python 3",
   "language": "python",
   "name": "python3"
  },
  "language_info": {
   "codemirror_mode": {
    "name": "ipython",
    "version": 3
   },
   "file_extension": ".py",
   "mimetype": "text/x-python",
   "name": "python",
   "nbconvert_exporter": "python",
   "pygments_lexer": "ipython3",
   "version": "3.8.5"
  }
 },
 "nbformat": 4,
 "nbformat_minor": 4
}
